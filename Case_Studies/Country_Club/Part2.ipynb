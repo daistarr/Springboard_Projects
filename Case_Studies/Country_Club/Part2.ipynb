{
 "cells": [
  {
   "cell_type": "code",
   "execution_count": 1,
   "id": "044a0540",
   "metadata": {},
   "outputs": [
    {
     "name": "stdout",
     "output_type": "stream",
     "text": [
      "2.6.0\n",
      "2. Query all tasks\n",
      "(0, 'Tennis Court 1', 5, 25, 10000, 200)\n",
      "(1, 'Tennis Court 2', 5, 25, 8000, 200)\n",
      "(2, 'Badminton Court', 0, 15.5, 4000, 50)\n",
      "(3, 'Table Tennis', 0, 5, 320, 10)\n",
      "(4, 'Massage Room 1', 9.9, 80, 4000, 3000)\n",
      "(5, 'Massage Room 2', 9.9, 80, 4000, 3000)\n",
      "(6, 'Squash Court', 3.5, 17.5, 5000, 80)\n",
      "(7, 'Snooker Table', 0, 5, 450, 15)\n",
      "(8, 'Pool Table', 0, 5, 400, 15)\n"
     ]
    }
   ],
   "source": [
    "import sqlite3\n",
    "from sqlite3 import Error\n",
    "\n",
    " \n",
    "def create_connection(db_file):\n",
    "    \"\"\" create a database connection to the SQLite database\n",
    "        specified by the db_file\n",
    "    :param db_file: database file\n",
    "    :return: Connection object or None\n",
    "    \"\"\"\n",
    "    conn = None\n",
    "    try:\n",
    "        conn = sqlite3.connect(db_file)\n",
    "        print(sqlite3.version)\n",
    "    except Error as e:\n",
    "        print(e)\n",
    " \n",
    "    return conn\n",
    "\n",
    " \n",
    "def select_all_tasks(conn):\n",
    "    \"\"\"\n",
    "    Query all rows in the tasks table\n",
    "    :param conn: the Connection object\n",
    "    :return:\n",
    "    \"\"\"\n",
    "    cur = conn.cursor()\n",
    "    \n",
    "    query1 = \"\"\"\n",
    "        SELECT *\n",
    "        FROM FACILITIES\n",
    "        \"\"\"\n",
    "    cur.execute(query1)\n",
    " \n",
    "    rows = cur.fetchall()\n",
    " \n",
    "    for row in rows:\n",
    "        print(row)\n",
    "\n",
    "\n",
    "def main():\n",
    "    database = \"sqlite_db_pythonsqlite.db\"\n",
    " \n",
    "    # create a database connection\n",
    "    conn = create_connection(database)\n",
    "    with conn: \n",
    "        print(\"2. Query all tasks\")\n",
    "        select_all_tasks(conn)\n",
    " \n",
    " \n",
    "if __name__ == '__main__':\n",
    "    main()\n",
    "\n"
   ]
  },
  {
   "cell_type": "markdown",
   "id": "55eb37b9",
   "metadata": {},
   "source": [
    "### Q10: Produce a list of facilities with a total revenue less than 1000.\n",
    "The output of facility name and total revenue, sorted by revenue. Remember\n",
    "that there's a different cost for guests and members! "
   ]
  },
  {
   "cell_type": "code",
   "execution_count": 2,
   "id": "a5a3adf4",
   "metadata": {},
   "outputs": [],
   "source": [
    "def select_facilities_with_revenue_less_than_1000(conn):\n",
    "    \"\"\" Query facilities with a total revenue less than 1000\n",
    "    :param conn: the Connection object\n",
    "    :return:\n",
    "    \"\"\"\n",
    "    cur = conn.cursor()\n",
    "    \n",
    "    query = \"\"\"\n",
    "    SELECT \n",
    "        Facilities.name AS facility_name,\n",
    "        SUM(\n",
    "            CASE \n",
    "                WHEN Bookings.memid = 0 THEN Facilities.guestcost * Bookings.slots\n",
    "                ELSE Facilities.membercost * Bookings.slots\n",
    "            END\n",
    "        ) AS total_revenue\n",
    "    FROM \n",
    "        Facilities\n",
    "    JOIN Bookings ON Facilities.facid = Bookings.facid \n",
    "    GROUP BY Facilities.name\n",
    "    HAVING total_revenue < 1000\n",
    "    ORDER BY total_revenue;\n",
    "    \"\"\"\n",
    "    \n",
    "    cur.execute(query)\n",
    "    rows = cur.fetchall()\n",
    "    for row in rows:\n",
    "        print(row)\n"
   ]
  },
  {
   "cell_type": "code",
   "execution_count": 4,
   "id": "790b5ea4",
   "metadata": {
    "scrolled": true
   },
   "outputs": [
    {
     "name": "stdout",
     "output_type": "stream",
     "text": [
      "2.6.0\n",
      "Facilities with a total revenue less than 1000:\n",
      "('Table Tennis', 180)\n",
      "('Snooker Table', 240)\n",
      "('Pool Table', 270)\n"
     ]
    }
   ],
   "source": [
    "database = \"sqlite_db_pythonsqlite.db\"\n",
    "conn = create_connection(database)\n",
    "with conn: \n",
    "    print(\"Facilities with a total revenue less than 1000:\")\n",
    "    select_facilities_with_revenue_less_than_1000(conn)\n"
   ]
  },
  {
   "cell_type": "markdown",
   "id": "d3a6caef",
   "metadata": {},
   "source": [
    "### Q11: Produce a report of members and who recommended them in alphabetic surname,firstname order"
   ]
  },
  {
   "cell_type": "code",
   "execution_count": 6,
   "id": "22e4f0ef",
   "metadata": {},
   "outputs": [],
   "source": [
    "def report_of_members_and_recommenders(conn):\n",
    "    cur = conn.cursor()\n",
    "    query = \"\"\"\n",
    "    SELECT \n",
    "        m1.surname || ', ' || m1.firstname AS member_name, \n",
    "        m2.surname || ', ' || m2.firstname AS recommended_by\n",
    "    FROM \n",
    "        Members AS m1\n",
    "    JOIN \n",
    "        Members AS m2 ON m1.recommendedby = m2.memid\n",
    "    ORDER BY \n",
    "        m1.surname, m1.firstname;\n",
    "    \"\"\"\n",
    "    cur.execute(query)\n",
    "    rows = cur.fetchall()\n",
    "    for row in rows:\n",
    "        print(row)\n"
   ]
  },
  {
   "cell_type": "code",
   "execution_count": 7,
   "id": "70eb7be6",
   "metadata": {},
   "outputs": [
    {
     "name": "stdout",
     "output_type": "stream",
     "text": [
      "2.6.0\n",
      "Report of members and who recommended them:\n",
      "('Bader, Florence', 'Stibbons, Ponder')\n",
      "('Baker, Anne', 'Stibbons, Ponder')\n",
      "('Baker, Timothy', 'Farrell, Jemima')\n",
      "('Boothe, Tim', 'Rownam, Tim')\n",
      "('Butters, Gerald', 'Smith, Darren')\n",
      "('Coplin, Joan', 'Baker, Timothy')\n",
      "('Crumpet, Erica', 'Smith, Tracy')\n",
      "('Dare, Nancy', 'Joplette, Janice')\n",
      "('Genting, Matthew', 'Butters, Gerald')\n",
      "('Hunt, John', 'Purview, Millicent')\n",
      "('Jones, David', 'Joplette, Janice')\n",
      "('Jones, Douglas', 'Jones, David')\n",
      "('Joplette, Janice', 'Smith, Darren')\n",
      "('Mackenzie, Anna', 'Smith, Darren')\n",
      "('Owen, Charles', 'Smith, Darren')\n",
      "('Pinker, David', 'Farrell, Jemima')\n",
      "('Purview, Millicent', 'Smith, Tracy')\n",
      "('Rumney, Henrietta', 'Genting, Matthew')\n",
      "('Sarwin, Ramnaresh', 'Bader, Florence')\n",
      "('Smith, Jack', 'Smith, Darren')\n",
      "('Stibbons, Ponder', 'Tracy, Burton')\n",
      "('Worthington-Smyth, Henry', 'Smith, Tracy')\n"
     ]
    }
   ],
   "source": [
    "database = \"sqlite_db_pythonsqlite.db\"\n",
    "conn = create_connection(database)\n",
    "with conn: \n",
    "    print(\"Report of members and who recommended them:\")\n",
    "    report_of_members_and_recommenders(conn)\n"
   ]
  },
  {
   "cell_type": "markdown",
   "id": "d0e3618e",
   "metadata": {},
   "source": [
    "### Q12: Find the facilities with their usage by member, but not guests"
   ]
  },
  {
   "cell_type": "code",
   "execution_count": 8,
   "id": "ec8a6ea3",
   "metadata": {},
   "outputs": [],
   "source": [
    "def facilities_usage_by_members(conn):\n",
    "    cur = conn.cursor()\n",
    "    query = \"\"\"\n",
    "    SELECT \n",
    "        Facilities.name AS facility_name, \n",
    "        COUNT(Bookings.bookid) AS usage_count_by_members\n",
    "    FROM \n",
    "        Bookings\n",
    "    JOIN \n",
    "        Facilities ON Bookings.facid = Facilities.facid \n",
    "    WHERE \n",
    "        Bookings.memid != 0\n",
    "    GROUP BY \n",
    "        Facilities.name\n",
    "    ORDER BY \n",
    "        usage_count_by_members DESC;\n",
    "    \"\"\"\n",
    "    cur.execute(query)\n",
    "    rows = cur.fetchall()\n",
    "    for row in rows:\n",
    "        print(row)\n"
   ]
  },
  {
   "cell_type": "code",
   "execution_count": 9,
   "id": "bc7f1da5",
   "metadata": {},
   "outputs": [
    {
     "name": "stdout",
     "output_type": "stream",
     "text": [
      "2.6.0\n",
      "Facilities usage by members:\n",
      "('Pool Table', 783)\n",
      "('Snooker Table', 421)\n",
      "('Massage Room 1', 421)\n",
      "('Table Tennis', 385)\n",
      "('Badminton Court', 344)\n",
      "('Tennis Court 1', 308)\n",
      "('Tennis Court 2', 276)\n",
      "('Squash Court', 195)\n",
      "('Massage Room 2', 27)\n"
     ]
    }
   ],
   "source": [
    "database = \"sqlite_db_pythonsqlite.db\"\n",
    "conn = create_connection(database)\n",
    "with conn: \n",
    "    print(\"Facilities usage by members:\")\n",
    "    facilities_usage_by_members(conn)\n"
   ]
  },
  {
   "cell_type": "markdown",
   "id": "f6b11cee",
   "metadata": {},
   "source": [
    "### Q13: Find the facilities usage by month, but not guests"
   ]
  },
  {
   "cell_type": "code",
   "execution_count": 11,
   "id": "1550847b",
   "metadata": {},
   "outputs": [],
   "source": [
    "def facilities_usage_by_month(conn):\n",
    "    cur = conn.cursor()\n",
    "    query = \"\"\"\n",
    "    SELECT \n",
    "        Facilities.name AS facility_name,\n",
    "        strftime('%Y-%m', Bookings.starttime) AS month, \n",
    "        COUNT(Bookings.bookid) AS usage_count_by_members\n",
    "    FROM \n",
    "        Bookings\n",
    "    JOIN \n",
    "        Facilities ON Bookings.facid = Facilities.facid \n",
    "    WHERE \n",
    "        Bookings.memid != 0\n",
    "    GROUP BY \n",
    "        Facilities.name, strftime('%Y-%m', Bookings.starttime)\n",
    "    ORDER BY \n",
    "        month, usage_count_by_members DESC;\n",
    "    \"\"\"\n",
    "    cur.execute(query)\n",
    "    rows = cur.fetchall()\n",
    "    for row in rows:\n",
    "        print(row)"
   ]
  },
  {
   "cell_type": "code",
   "execution_count": 12,
   "id": "68f183ff",
   "metadata": {},
   "outputs": [
    {
     "name": "stdout",
     "output_type": "stream",
     "text": [
      "2.6.0\n",
      "Facilities usage by month (excluding guests):\n",
      "('Pool Table', '2012-07', 103)\n",
      "('Massage Room 1', '2012-07', 77)\n",
      "('Snooker Table', '2012-07', 68)\n",
      "('Tennis Court 1', '2012-07', 65)\n",
      "('Badminton Court', '2012-07', 51)\n",
      "('Table Tennis', '2012-07', 48)\n",
      "('Tennis Court 2', '2012-07', 41)\n",
      "('Squash Court', '2012-07', 23)\n",
      "('Massage Room 2', '2012-07', 4)\n",
      "('Pool Table', '2012-08', 272)\n",
      "('Snooker Table', '2012-08', 154)\n",
      "('Massage Room 1', '2012-08', 153)\n",
      "('Table Tennis', '2012-08', 143)\n",
      "('Badminton Court', '2012-08', 132)\n",
      "('Tennis Court 1', '2012-08', 111)\n",
      "('Tennis Court 2', '2012-08', 109)\n",
      "('Squash Court', '2012-08', 85)\n",
      "('Massage Room 2', '2012-08', 9)\n",
      "('Pool Table', '2012-09', 408)\n",
      "('Snooker Table', '2012-09', 199)\n",
      "('Table Tennis', '2012-09', 194)\n",
      "('Massage Room 1', '2012-09', 191)\n",
      "('Badminton Court', '2012-09', 161)\n",
      "('Tennis Court 1', '2012-09', 132)\n",
      "('Tennis Court 2', '2012-09', 126)\n",
      "('Squash Court', '2012-09', 87)\n",
      "('Massage Room 2', '2012-09', 14)\n"
     ]
    }
   ],
   "source": [
    "database = \"sqlite_db_pythonsqlite.db\"\n",
    "conn = create_connection(database)\n",
    "with conn: \n",
    "    print(\"Facilities usage by month (excluding guests):\")\n",
    "    facilities_usage_by_month(conn)"
   ]
  }
 ],
 "metadata": {
  "kernelspec": {
   "display_name": "Python 3 (ipykernel)",
   "language": "python",
   "name": "python3"
  },
  "language_info": {
   "codemirror_mode": {
    "name": "ipython",
    "version": 3
   },
   "file_extension": ".py",
   "mimetype": "text/x-python",
   "name": "python",
   "nbconvert_exporter": "python",
   "pygments_lexer": "ipython3",
   "version": "3.10.9"
  }
 },
 "nbformat": 4,
 "nbformat_minor": 5
}
